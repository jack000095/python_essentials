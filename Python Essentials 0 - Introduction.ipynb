{
 "cells": [
  {
   "cell_type": "markdown",
   "metadata": {},
   "source": [
    "## Python Essentials by Paul Chao : Introduction ##"
   ]
  },
  {
   "cell_type": "markdown",
   "metadata": {},
   "source": [
    "### The Python Interpreter ###"
   ]
  },
  {
   "cell_type": "markdown",
   "metadata": {},
   "source": [
    "```\n",
    "$ python\n",
    "Python 3.5.1 |Continuum Analytics, Inc.| (default, Dec  7 2015, 11:24:55)\n",
    "Type \"help\", \"copyright\", \"credits\" or \"license\" for more information.\n",
    ">>>\n",
    "```"
   ]
  },
  {
   "cell_type": "code",
   "execution_count": 1,
   "metadata": {},
   "outputs": [
    {
     "data": {
      "text/plain": [
       "15"
      ]
     },
     "execution_count": 1,
     "metadata": {},
     "output_type": "execute_result"
    }
   ],
   "source": [
    ">>> 1 + 1\n",
    "2\n",
    ">>> x = 5\n",
    ">>> x * 3\n",
    "15"
   ]
  },
  {
   "cell_type": "markdown",
   "metadata": {},
   "source": [
    "### Self-contained Python scripts ###"
   ]
  },
  {
   "cell_type": "code",
   "execution_count": null,
   "metadata": {
    "collapsed": true
   },
   "outputs": [],
   "source": [
    "file: test.py\n",
    "\n",
    "print(\"Running test.py\")\n",
    "x = 5\n",
    "print(\"Result is\", 3 * x)"
   ]
  },
  {
   "cell_type": "markdown",
   "metadata": {},
   "source": [
    "<code>\n",
    "$ python test.py\n",
    "Running test.py\n",
    "Result is 15\n",
    "</code>"
   ]
  },
  {
   "cell_type": "markdown",
   "metadata": {
    "collapsed": true
   },
   "source": [
    "## Try it ##\n",
    "### Online [A](http://www.tutorialspoint.com/execute_python_online.php)\n",
    "\n",
    "### Online [B](https://repl.it/languages/python3)  \n",
    "- Ex: [https://repl.it/J8fm](https://repl.it/J8fm)\n",
    "\n",
    "### Online [C](https://www.python.org/shell/)"
   ]
  },
  {
   "cell_type": "markdown",
   "metadata": {
    "collapsed": true
   },
   "source": [
    "### Why Python? ###\n",
    "- **Open Source**(開源) : Sharing(分享)、Community(社群)、Packages(套件)、Resources(資源)\n",
    "\n",
    "- **Easy** (簡單): For Everyone(語法簡單、口語化)、Code and Run(操作簡約)、Dynamic Typed(動態型態)、No Pointer(沒有指標)\n",
    "\n",
    "- **Powerful** (功能完整): Procedule Programming(程序導向)、Object Oriented Programming(物件導向)、Functional Programming(函數導向)\n",
    "\n",
    "- **Applications** (應用廣泛): Web Frameworks(網站框架)、Web Crawling(爬蟲)、Big Data(大數據)、Machine Learning(機器學習)、Cryptography(密碼學)、Computer Vision(電腦視覺)、Science(科學計算)、Economics([經濟學](https://lectures.quantecon.org))"
   ]
  }
 ],
 "metadata": {
  "kernelspec": {
   "display_name": "Python 3",
   "language": "python",
   "name": "python3"
  },
  "language_info": {
   "codemirror_mode": {
    "name": "ipython",
    "version": 3
   },
   "file_extension": ".py",
   "mimetype": "text/x-python",
   "name": "python",
   "nbconvert_exporter": "python",
   "pygments_lexer": "ipython3",
   "version": "3.6.1"
  }
 },
 "nbformat": 4,
 "nbformat_minor": 2
}
