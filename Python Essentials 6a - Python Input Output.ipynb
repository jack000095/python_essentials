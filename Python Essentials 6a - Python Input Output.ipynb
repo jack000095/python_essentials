{
 "cells": [
  {
   "cell_type": "markdown",
   "metadata": {},
   "source": [
    "# Python Essentials by Paul Chao #\n",
    "\n",
    "## Python I/O ##"
   ]
  },
  {
   "cell_type": "markdown",
   "metadata": {},
   "source": [
    "## Standard Input ##\n",
    "[PE-6a-1](\n",
    "https://goo.gl/ZRMqjV)"
   ]
  },
  {
   "cell_type": "code",
   "execution_count": 83,
   "metadata": {},
   "outputs": [
    {
     "name": "stdout",
     "output_type": "stream",
     "text": [
      "100\n"
     ]
    },
    {
     "data": {
      "text/plain": [
       "'100'"
      ]
     },
     "execution_count": 83,
     "metadata": {},
     "output_type": "execute_result"
    }
   ],
   "source": [
    "x = input()\n",
    "x"
   ]
  },
  {
   "cell_type": "code",
   "execution_count": 84,
   "metadata": {},
   "outputs": [
    {
     "name": "stdout",
     "output_type": "stream",
     "text": [
      "please key in your ID12345\n"
     ]
    },
    {
     "data": {
      "text/plain": [
       "'12345'"
      ]
     },
     "execution_count": 84,
     "metadata": {},
     "output_type": "execute_result"
    }
   ],
   "source": [
    "x = input(\"please key in your ID\")\n",
    "x"
   ]
  },
  {
   "cell_type": "markdown",
   "metadata": {},
   "source": [
    "## Standard Output ##"
   ]
  },
  {
   "cell_type": "code",
   "execution_count": 57,
   "metadata": {},
   "outputs": [
    {
     "name": "stdout",
     "output_type": "stream",
     "text": [
      "hello\n",
      "                      hello                       \n",
      "                                               hello                                                \n"
     ]
    }
   ],
   "source": [
    "a = \"hello\"\n",
    "print(a)\n",
    "print(a.center(50))\n",
    "print(a.center(100))"
   ]
  },
  {
   "cell_type": "code",
   "execution_count": 60,
   "metadata": {},
   "outputs": [
    {
     "data": {
      "text/plain": [
       "'                      hello                       '"
      ]
     },
     "execution_count": 60,
     "metadata": {},
     "output_type": "execute_result"
    }
   ],
   "source": [
    "a.center(50)"
   ]
  },
  {
   "cell_type": "code",
   "execution_count": 71,
   "metadata": {},
   "outputs": [
    {
     "name": "stdout",
     "output_type": "stream",
     "text": [
      "                                             hello\n"
     ]
    },
    {
     "data": {
      "text/plain": [
       "'                                             hello'"
      ]
     },
     "execution_count": 71,
     "metadata": {},
     "output_type": "execute_result"
    }
   ],
   "source": [
    "print(a.rjust(50))\n",
    "a.rjust(50)"
   ]
  },
  {
   "cell_type": "code",
   "execution_count": 73,
   "metadata": {},
   "outputs": [
    {
     "data": {
      "text/plain": [
       "'I love Python'"
      ]
     },
     "execution_count": 73,
     "metadata": {},
     "output_type": "execute_result"
    }
   ],
   "source": [
    "str(\"I love {}\").format(\"Python\")"
   ]
  },
  {
   "cell_type": "code",
   "execution_count": 78,
   "metadata": {},
   "outputs": [
    {
     "name": "stdout",
     "output_type": "stream",
     "text": [
      "Python is a good language to beginner, it is number 1.\n"
     ]
    }
   ],
   "source": [
    "print(\"{} is a good language to {}, it is number {}.\".format(\"Python\", \"beginner\", 1))"
   ]
  },
  {
   "cell_type": "markdown",
   "metadata": {},
   "source": [
    "### Advanced - str.format(*args, **kwargs) ###"
   ]
  },
  {
   "cell_type": "code",
   "execution_count": 79,
   "metadata": {},
   "outputs": [
    {
     "data": {
      "text/plain": [
       "'Python is a good language to everyone'"
      ]
     },
     "execution_count": 79,
     "metadata": {},
     "output_type": "execute_result"
    }
   ],
   "source": [
    "\"{0} is a good language to {1}\".format(\"Python\", \"everyone\")"
   ]
  },
  {
   "cell_type": "code",
   "execution_count": 80,
   "metadata": {},
   "outputs": [
    {
     "data": {
      "text/plain": [
       "'Python is a good language to everyone'"
      ]
     },
     "execution_count": 80,
     "metadata": {},
     "output_type": "execute_result"
    }
   ],
   "source": [
    "\"{0} is a good language to {2}\".format(\"Python\", \"beginner\", \"everyone\")"
   ]
  },
  {
   "cell_type": "code",
   "execution_count": 82,
   "metadata": {},
   "outputs": [
    {
     "data": {
      "text/plain": [
       "'Python is a good language to everyone. It is number 1!'"
      ]
     },
     "execution_count": 82,
     "metadata": {},
     "output_type": "execute_result"
    }
   ],
   "source": [
    "\"{lang_name} is a good language to {people}. It is number {0}!\".format(1, lang_name=\"Python\", people=\"everyone\")"
   ]
  },
  {
   "cell_type": "markdown",
   "metadata": {},
   "source": [
    "### File Management 檔案管理 ###\n",
    "### File I/O 檔案讀寫 ###"
   ]
  },
  {
   "cell_type": "markdown",
   "metadata": {},
   "source": [
    "#### Open for Reading 開啟讀檔 ####"
   ]
  },
  {
   "cell_type": "code",
   "execution_count": 1,
   "metadata": {},
   "outputs": [
    {
     "data": {
      "text/plain": [
       "<_io.TextIOWrapper name='test.txt' mode='r' encoding='cp950'>"
      ]
     },
     "execution_count": 1,
     "metadata": {},
     "output_type": "execute_result"
    }
   ],
   "source": [
    "file_a = open(\"test.txt\", \"r\")\n",
    "file_a"
   ]
  },
  {
   "cell_type": "code",
   "execution_count": 3,
   "metadata": {},
   "outputs": [
    {
     "data": {
      "text/plain": [
       "'test python'"
      ]
     },
     "execution_count": 3,
     "metadata": {},
     "output_type": "execute_result"
    }
   ],
   "source": [
    "file_a.read()"
   ]
  },
  {
   "cell_type": "code",
   "execution_count": 4,
   "metadata": {},
   "outputs": [
    {
     "ename": "UnsupportedOperation",
     "evalue": "not writable",
     "output_type": "error",
     "traceback": [
      "\u001b[1;31m---------------------------------------------------------------------------\u001b[0m",
      "\u001b[1;31mUnsupportedOperation\u001b[0m                      Traceback (most recent call last)",
      "\u001b[1;32m<ipython-input-4-661d3fd354a6>\u001b[0m in \u001b[0;36m<module>\u001b[1;34m()\u001b[0m\n\u001b[1;32m----> 1\u001b[1;33m \u001b[0mfile_a\u001b[0m\u001b[1;33m.\u001b[0m\u001b[0mwrite\u001b[0m\u001b[1;33m(\u001b[0m\u001b[1;34m\"abc\"\u001b[0m\u001b[1;33m)\u001b[0m\u001b[1;33m\u001b[0m\u001b[0m\n\u001b[0m",
      "\u001b[1;31mUnsupportedOperation\u001b[0m: not writable"
     ]
    }
   ],
   "source": [
    "file_a.write(\"abc\")"
   ]
  },
  {
   "cell_type": "markdown",
   "metadata": {},
   "source": [
    "#### Open for Writing 開啟寫檔 ####"
   ]
  },
  {
   "cell_type": "code",
   "execution_count": 1,
   "metadata": {},
   "outputs": [
    {
     "data": {
      "text/plain": [
       "<_io.TextIOWrapper name='test_w.txt' mode='w' encoding='cp950'>"
      ]
     },
     "execution_count": 1,
     "metadata": {},
     "output_type": "execute_result"
    }
   ],
   "source": [
    "file_b = open(\"test_w.txt\", \"w\")\n",
    "file_b"
   ]
  },
  {
   "cell_type": "code",
   "execution_count": 2,
   "metadata": {
    "collapsed": true
   },
   "outputs": [],
   "source": [
    "file_b.write(\"I love Python\")\n",
    "file_b.close()"
   ]
  },
  {
   "cell_type": "code",
   "execution_count": 4,
   "metadata": {},
   "outputs": [
    {
     "data": {
      "text/plain": [
       "'I love Python'"
      ]
     },
     "execution_count": 4,
     "metadata": {},
     "output_type": "execute_result"
    }
   ],
   "source": [
    "# verify 驗證一下\n",
    "file_b = open(\"test_w.txt\", \"r\")\n",
    "file_b.read()"
   ]
  },
  {
   "cell_type": "markdown",
   "metadata": {},
   "source": [
    "#### Open for Appending 開啟擴充 ###"
   ]
  },
  {
   "cell_type": "code",
   "execution_count": 5,
   "metadata": {
    "collapsed": true
   },
   "outputs": [],
   "source": [
    "file_c = open(\"test_w.txt\", \"a\")\n",
    "file_c.write(\" more\")\n",
    "file_c.close()"
   ]
  },
  {
   "cell_type": "code",
   "execution_count": 7,
   "metadata": {},
   "outputs": [
    {
     "data": {
      "text/plain": [
       "'I love Python more'"
      ]
     },
     "execution_count": 7,
     "metadata": {},
     "output_type": "execute_result"
    }
   ],
   "source": [
    "# verify 驗證一下\n",
    "file_c = open(\"test_w.txt\")\n",
    "file_c.read()"
   ]
  },
  {
   "cell_type": "code",
   "execution_count": 7,
   "metadata": {},
   "outputs": [
    {
     "data": {
      "text/plain": [
       "<_io.TextIOWrapper name='test2.txt' mode='a' encoding='cp950'>"
      ]
     },
     "execution_count": 7,
     "metadata": {},
     "output_type": "execute_result"
    }
   ],
   "source": [
    "file_d = open(\"test2.txt\", \"a\")  #無法用線上模擬環境\n",
    "file_d"
   ]
  },
  {
   "cell_type": "code",
   "execution_count": 8,
   "metadata": {},
   "outputs": [
    {
     "data": {
      "text/plain": [
       "13"
      ]
     },
     "execution_count": 8,
     "metadata": {},
     "output_type": "execute_result"
    }
   ],
   "source": [
    "file_d.write(\"I love Python\")"
   ]
  },
  {
   "cell_type": "code",
   "execution_count": 9,
   "metadata": {},
   "outputs": [
    {
     "ename": "UnsupportedOperation",
     "evalue": "not readable",
     "output_type": "error",
     "traceback": [
      "\u001b[1;31m---------------------------------------------------------------------------\u001b[0m",
      "\u001b[1;31mUnsupportedOperation\u001b[0m                      Traceback (most recent call last)",
      "\u001b[1;32m<ipython-input-9-12a60d9aacd1>\u001b[0m in \u001b[0;36m<module>\u001b[1;34m()\u001b[0m\n\u001b[1;32m----> 1\u001b[1;33m \u001b[0mfile_b\u001b[0m\u001b[1;33m.\u001b[0m\u001b[0mread\u001b[0m\u001b[1;33m(\u001b[0m\u001b[1;33m)\u001b[0m\u001b[1;33m\u001b[0m\u001b[0m\n\u001b[0m",
      "\u001b[1;31mUnsupportedOperation\u001b[0m: not readable"
     ]
    }
   ],
   "source": [
    "file_d.read()"
   ]
  },
  {
   "cell_type": "code",
   "execution_count": 13,
   "metadata": {
    "collapsed": true
   },
   "outputs": [],
   "source": [
    "file_d.close()"
   ]
  },
  {
   "cell_type": "markdown",
   "metadata": {},
   "source": [
    "### Different Modes of Opening a File 開檔的幾種模式 ###\n",
    "| Modes 模式 | Description 描述 |\n",
    "|-------------|--------------------|\n",
    "| \"r\" | Opens a file for reading only.  This is the default mode. 唯讀模式 |\n",
    "| \"w\" | Opens a file for writing only.  Will create if the file does not exist. 唯寫模式 |\n",
    "| \"a\" | Opens a file for appending. Data written to the file is automatically added to the end. 擴充模式 |\n",
    "| \"r+\" | Opens the file for both reading and writing. The file pointer placed at the beginning of the file. 可讀可寫 |\n",
    "|  | ** Windows Only (只有微軟視窗OS的特殊情況) ** |\n",
    "| \"rb\" | Opens a file for reading only in binary format. Python在微軟上純文字檔與二進制檔案(JPEG, EXE..)處理不同 |\n",
    "| \"wb\" | Opens a file for writing only in binary format. 二進制寫 |\n",
    "| \"ab\" | Opens a file for appending in binary format. 二進制擴充 |\n",
    "| \"rb+ | Opens a file for reading and writing in binary format. 二進制讀寫 |"
   ]
  },
  {
   "cell_type": "markdown",
   "metadata": {},
   "source": [
    "#### 不建議: Open for Read+Write 開啟R+讀寫 ####"
   ]
  },
  {
   "cell_type": "code",
   "execution_count": 22,
   "metadata": {
    "collapsed": true,
    "scrolled": true
   },
   "outputs": [],
   "source": [
    "file_d = open(\"test2.txt\", \"r+\")"
   ]
  },
  {
   "cell_type": "code",
   "execution_count": 23,
   "metadata": {},
   "outputs": [
    {
     "data": {
      "text/plain": [
       "'I love Python'"
      ]
     },
     "execution_count": 23,
     "metadata": {},
     "output_type": "execute_result"
    }
   ],
   "source": [
    "file_d.read()"
   ]
  },
  {
   "cell_type": "code",
   "execution_count": 24,
   "metadata": {},
   "outputs": [
    {
     "data": {
      "text/plain": [
       "4"
      ]
     },
     "execution_count": 24,
     "metadata": {},
     "output_type": "execute_result"
    }
   ],
   "source": [
    "file_d.write(\"more\")"
   ]
  },
  {
   "cell_type": "markdown",
   "metadata": {},
   "source": [
    "### Where Are You?  讀寫到哪了? ###"
   ]
  },
  {
   "cell_type": "markdown",
   "metadata": {},
   "source": [
    "#### Where is the HEAD? 讀寫頭到哪裡了? ####"
   ]
  },
  {
   "cell_type": "code",
   "execution_count": 16,
   "metadata": {
    "collapsed": true
   },
   "outputs": [],
   "source": [
    "# preparing file\n",
    "file_e = open(\"test_where.txt\", \"w\")\n",
    "file_e.write(\"where am i ?\")\n",
    "file_e.close()"
   ]
  },
  {
   "cell_type": "code",
   "execution_count": 17,
   "metadata": {},
   "outputs": [
    {
     "data": {
      "text/plain": [
       "0"
      ]
     },
     "execution_count": 17,
     "metadata": {},
     "output_type": "execute_result"
    }
   ],
   "source": [
    "# start to read\n",
    "file_e = open(\"test_where.txt\", \"r\")\n",
    "file_e.tell()"
   ]
  },
  {
   "cell_type": "code",
   "execution_count": 18,
   "metadata": {},
   "outputs": [
    {
     "data": {
      "text/plain": [
       "'where am i ?'"
      ]
     },
     "execution_count": 18,
     "metadata": {},
     "output_type": "execute_result"
    }
   ],
   "source": [
    "file_e.read()"
   ]
  },
  {
   "cell_type": "code",
   "execution_count": 19,
   "metadata": {},
   "outputs": [
    {
     "data": {
      "text/plain": [
       "12"
      ]
     },
     "execution_count": 19,
     "metadata": {},
     "output_type": "execute_result"
    }
   ],
   "source": [
    "file_e.tell()"
   ]
  },
  {
   "cell_type": "markdown",
   "metadata": {},
   "source": [
    "#### Seek the HEAD 調整讀寫頭 ####"
   ]
  },
  {
   "cell_type": "code",
   "execution_count": 22,
   "metadata": {},
   "outputs": [
    {
     "data": {
      "text/plain": [
       "''"
      ]
     },
     "execution_count": 22,
     "metadata": {},
     "output_type": "execute_result"
    }
   ],
   "source": [
    "# no more\n",
    "file_e.read()"
   ]
  },
  {
   "cell_type": "code",
   "execution_count": 23,
   "metadata": {},
   "outputs": [
    {
     "data": {
      "text/plain": [
       "0"
      ]
     },
     "execution_count": 23,
     "metadata": {},
     "output_type": "execute_result"
    }
   ],
   "source": [
    "file_e.seek(0)\n",
    "file_e.tell()"
   ]
  },
  {
   "cell_type": "code",
   "execution_count": 24,
   "metadata": {},
   "outputs": [
    {
     "data": {
      "text/plain": [
       "'where am i ?'"
      ]
     },
     "execution_count": 24,
     "metadata": {},
     "output_type": "execute_result"
    }
   ],
   "source": [
    "buffer = file_e.read()\n",
    "buffer"
   ]
  },
  {
   "cell_type": "code",
   "execution_count": 25,
   "metadata": {},
   "outputs": [
    {
     "data": {
      "text/plain": [
       "12"
      ]
     },
     "execution_count": 25,
     "metadata": {},
     "output_type": "execute_result"
    }
   ],
   "source": [
    "file_e.tell()"
   ]
  },
  {
   "cell_type": "code",
   "execution_count": 26,
   "metadata": {
    "collapsed": true
   },
   "outputs": [],
   "source": [
    "file_e.close()"
   ]
  },
  {
   "cell_type": "markdown",
   "metadata": {},
   "source": [
    "### open (with mode) 按模式開啟檔案 --> read()/write()/seek() 讀寫 --> close() 關閉檔案 ###"
   ]
  },
  {
   "cell_type": "markdown",
   "metadata": {},
   "source": [
    "### Assignment 小作業 ####\n",
    "請試試看將 \"**I Love Python !**\" 寫進 love.txt 的檔案，再將這個內容從檔案裡讀回來後，用字串印出來。\n"
   ]
  },
  {
   "cell_type": "code",
   "execution_count": 28,
   "metadata": {},
   "outputs": [
    {
     "name": "stdout",
     "output_type": "stream",
     "text": [
      "I Love Python!\n"
     ]
    }
   ],
   "source": [
    "file = open(\"love.txt\",\"w\")\n",
    "file.write(\"I Love Python!\")\n",
    "file.close()\n",
    "\n",
    "file = open(\"love.txt\", \"r\")\n",
    "love = file.read()\n",
    "print(love)"
   ]
  },
  {
   "cell_type": "markdown",
   "metadata": {},
   "source": [
    "### With Open 比較好的開檔建議 ###\n",
    "[PE-6a-3](https://goo.gl/h29YVA)"
   ]
  },
  {
   "cell_type": "markdown",
   "metadata": {},
   "source": [
    "#### Problems of Forgetting 忘記關檔的問題多多 ####"
   ]
  },
  {
   "cell_type": "code",
   "execution_count": 29,
   "metadata": {},
   "outputs": [
    {
     "data": {
      "text/plain": [
       "''"
      ]
     },
     "execution_count": 29,
     "metadata": {},
     "output_type": "execute_result"
    }
   ],
   "source": [
    "file_1 = open(\"problem.txt\",\"w\")\n",
    "file_1.write(\"Forget to close\")\n",
    "\n",
    "file_2 = open(\"problem.txt\",\"r\")\n",
    "file_2.read()"
   ]
  },
  {
   "cell_type": "code",
   "execution_count": 30,
   "metadata": {},
   "outputs": [
    {
     "data": {
      "text/plain": [
       "'Remember to close'"
      ]
     },
     "execution_count": 30,
     "metadata": {},
     "output_type": "execute_result"
    }
   ],
   "source": [
    "file_1 = open(\"problem.txt\",\"w\")\n",
    "file_1.write(\"Remember to close\")\n",
    "file_1.close()\n",
    "\n",
    "file_2 = open(\"problem.txt\",\"r\")\n",
    "file_2.read()"
   ]
  },
  {
   "cell_type": "code",
   "execution_count": 31,
   "metadata": {},
   "outputs": [
    {
     "data": {
      "text/plain": [
       "14"
      ]
     },
     "execution_count": 31,
     "metadata": {},
     "output_type": "execute_result"
    }
   ],
   "source": [
    "file_3 = open(\"problem.txt\", \"w\")\n",
    "file_3.write(\"Forget to close\")\n",
    "\n",
    "file_4 = open(\"problem.txt\",\"w\")\n",
    "file_4.write(\"Accident in...\")"
   ]
  },
  {
   "cell_type": "code",
   "execution_count": 33,
   "metadata": {},
   "outputs": [
    {
     "data": {
      "text/plain": [
       "'Accident in...'"
      ]
     },
     "execution_count": 33,
     "metadata": {},
     "output_type": "execute_result"
    }
   ],
   "source": [
    "# file_4 is good for remembering close()\n",
    "file_4.close()\n",
    "file_5 = open(\"problem.txt\",\"r\")\n",
    "file_5.read()"
   ]
  },
  {
   "cell_type": "markdown",
   "metadata": {},
   "source": [
    "#### Let With Help You 一勞永逸的方法 ####"
   ]
  },
  {
   "cell_type": "code",
   "execution_count": 34,
   "metadata": {
    "collapsed": true
   },
   "outputs": [],
   "source": [
    "with open(\"test2.txt\",\"w\") as f:\n",
    "    f.write(\"I use with happily.\")"
   ]
  },
  {
   "cell_type": "code",
   "execution_count": 35,
   "metadata": {},
   "outputs": [
    {
     "name": "stdout",
     "output_type": "stream",
     "text": [
      "I use with happily.\n"
     ]
    }
   ],
   "source": [
    "with open('test2.txt', 'r') as f:\n",
    "    read_data = f.read()\n",
    "    print(read_data)"
   ]
  },
  {
   "cell_type": "markdown",
   "metadata": {},
   "source": [
    "``` Python\n",
    "file = open('test2.txt', 'r')\n",
    "try:\n",
    "    file.read()\n",
    "except:\n",
    "    print('file read error. 讀取檔案發生錯誤')\n",
    "finally:\n",
    "    file.close()\n",
    "```"
   ]
  },
  {
   "cell_type": "markdown",
   "metadata": {},
   "source": [
    "## Advanced : How \"with as\" works?  \"with as\"是如何運作的? ##"
   ]
  },
  {
   "cell_type": "markdown",
   "metadata": {},
   "source": [
    "### with ... as ....\n",
    "\"with as\" is for objects support CMP(Context Management Protocol). Objects support Context Management Protocol, should implement \\__enter\\__() and \\__exit\\__(), which is called a \"Context Manager\".\n",
    "\n",
    "物件支援環境管理協定（Context Management Protocol），就可以使用with as語句。支援環境管理協定的物件，必須實作\\__enter\\__()與\\__exit\\__()兩個方法，這樣的物件稱之為環境管理員(Context Manager)。"
   ]
  },
  {
   "cell_type": "markdown",
   "metadata": {},
   "source": [
    "``` Python\n",
    "with --> object.__enter__() --> return value as f --> statement(s) --> object.__exit__()\n",
    "```"
   ]
  },
  {
   "cell_type": "code",
   "execution_count": 33,
   "metadata": {},
   "outputs": [
    {
     "data": {
      "text/plain": [
       "_io.TextIOWrapper"
      ]
     },
     "execution_count": 33,
     "metadata": {},
     "output_type": "execute_result"
    }
   ],
   "source": [
    "f.__class__"
   ]
  },
  {
   "cell_type": "code",
   "execution_count": 35,
   "metadata": {
    "collapsed": true
   },
   "outputs": [],
   "source": [
    "from _io import TextIOWrapper"
   ]
  },
  {
   "cell_type": "code",
   "execution_count": 36,
   "metadata": {},
   "outputs": [
    {
     "data": {
      "text/plain": [
       "['_CHUNK_SIZE',\n",
       " '__class__',\n",
       " '__del__',\n",
       " '__delattr__',\n",
       " '__dict__',\n",
       " '__dir__',\n",
       " '__doc__',\n",
       " '__enter__',\n",
       " '__eq__',\n",
       " '__exit__',\n",
       " '__format__',\n",
       " '__ge__',\n",
       " '__getattribute__',\n",
       " '__getstate__',\n",
       " '__gt__',\n",
       " '__hash__',\n",
       " '__init__',\n",
       " '__init_subclass__',\n",
       " '__iter__',\n",
       " '__le__',\n",
       " '__lt__',\n",
       " '__ne__',\n",
       " '__new__',\n",
       " '__next__',\n",
       " '__reduce__',\n",
       " '__reduce_ex__',\n",
       " '__repr__',\n",
       " '__setattr__',\n",
       " '__sizeof__',\n",
       " '__str__',\n",
       " '__subclasshook__',\n",
       " '_checkClosed',\n",
       " '_checkReadable',\n",
       " '_checkSeekable',\n",
       " '_checkWritable',\n",
       " '_finalizing',\n",
       " 'buffer',\n",
       " 'close',\n",
       " 'closed',\n",
       " 'detach',\n",
       " 'encoding',\n",
       " 'errors',\n",
       " 'fileno',\n",
       " 'flush',\n",
       " 'isatty',\n",
       " 'line_buffering',\n",
       " 'name',\n",
       " 'newlines',\n",
       " 'read',\n",
       " 'readable',\n",
       " 'readline',\n",
       " 'readlines',\n",
       " 'seek',\n",
       " 'seekable',\n",
       " 'tell',\n",
       " 'truncate',\n",
       " 'writable',\n",
       " 'write',\n",
       " 'writelines']"
      ]
     },
     "execution_count": 36,
     "metadata": {},
     "output_type": "execute_result"
    }
   ],
   "source": [
    "dir(TextIOWrapper)"
   ]
  },
  {
   "cell_type": "code",
   "execution_count": 39,
   "metadata": {},
   "outputs": [
    {
     "name": "stdout",
     "output_type": "stream",
     "text": [
      "<method '__enter__' of '_io._IOBase' objects>\n"
     ]
    }
   ],
   "source": [
    "print(TextIOWrapper.__enter__)"
   ]
  },
  {
   "cell_type": "markdown",
   "metadata": {},
   "source": [
    "#### https://github.com/python/cpython/blob/3.6/Modules/_io/iobase.c#L435-L449 ###"
   ]
  },
  {
   "cell_type": "markdown",
   "metadata": {},
   "source": [
    "``` Python\n",
    "class myFileObject:\n",
    "    def __init__(self, file, mode):\n",
    "        self.open_file = open(file, mode)\n",
    "        \n",
    "    def __enter__(self):\n",
    "        return self.open_file\n",
    "\n",
    "    def __exit__(self, type, value, tb):\n",
    "        self.open_file.close()\n",
    "        if type is AttributeError:\n",
    "            print('exception handle here...')\n",
    "            return True\n",
    "```"
   ]
  },
  {
   "cell_type": "markdown",
   "metadata": {},
   "source": [
    "## 檔案更名與刪除 ##\n",
    "[PE-6a-4](https://goo.gl/uaPzAu)"
   ]
  },
  {
   "cell_type": "markdown",
   "metadata": {},
   "source": [
    "### Rename A File 檔案更名 ###\n",
    "``` Python\n",
    "import os  #模擬環境需至下方shell中以 $ls 確認\n",
    "\n",
    "os.rename( \"test3.txt\", \"test4.txt\" )\n",
    "```"
   ]
  },
  {
   "cell_type": "markdown",
   "metadata": {},
   "source": [
    "### Remove A File 刪除檔案 ###\n",
    "``` Python\n",
    "import os  #模擬環境無法測試，請在實際環境測試\n",
    "\n",
    "os.remove(\"text2.txt\")\n",
    "```"
   ]
  },
  {
   "cell_type": "markdown",
   "metadata": {},
   "source": [
    "## Directory Management 目錄管理 ##"
   ]
  },
  {
   "cell_type": "code",
   "execution_count": 42,
   "metadata": {},
   "outputs": [
    {
     "data": {
      "text/plain": [
       "'C:\\\\Users\\\\User'"
      ]
     },
     "execution_count": 42,
     "metadata": {},
     "output_type": "execute_result"
    }
   ],
   "source": [
    "import os\n",
    "os.getcwd()"
   ]
  },
  {
   "cell_type": "code",
   "execution_count": 44,
   "metadata": {
    "collapsed": true
   },
   "outputs": [],
   "source": [
    "os.mkdir(\"newdir\")\n",
    "os.chdir(\"newdir\")\n",
    "os.chdir(\"..\")\n",
    "os.rmdir('newdir')"
   ]
  },
  {
   "cell_type": "markdown",
   "metadata": {},
   "source": [
    "## Assignment 目錄掃描實作 ##\n",
    "試著寫出一個掃描目錄的函式 traverse_dir，能將指定的目錄下面的子目錄以及裡面所有的檔案名稱條列出來。"
   ]
  },
  {
   "cell_type": "code",
   "execution_count": 5,
   "metadata": {
    "collapsed": true
   },
   "outputs": [],
   "source": [
    "import os\n",
    "def traverse_dir(entry_dir):\n",
    "    for root, dirs, files in os.walk(entry_dir):\n",
    "        for file in files:\n",
    "            p=os.path.join(root,file)\n",
    "            print(p)"
   ]
  },
  {
   "cell_type": "code",
   "execution_count": 6,
   "metadata": {},
   "outputs": [
    {
     "name": "stdout",
     "output_type": "stream",
     "text": [
      "C:\\Users\\User\\PythonEssentials\\images\\1451964410-2363242343.png\n",
      "C:\\Users\\User\\PythonEssentials\\images\\Android-icon.png\n",
      "C:\\Users\\User\\PythonEssentials\\images\\arduino_mini_oled.png\n",
      "C:\\Users\\User\\PythonEssentials\\images\\python3預設路徑_linux.jpg\n",
      "C:\\Users\\User\\PythonEssentials\\images\\python3預設路徑_win.jpg\n"
     ]
    }
   ],
   "source": [
    "traverse_dir(os.getcwd()+\"\\\\images\")"
   ]
  },
  {
   "cell_type": "markdown",
   "metadata": {},
   "source": [
    "## Adding Filter 添加過濾器 ##"
   ]
  },
  {
   "cell_type": "code",
   "execution_count": 7,
   "metadata": {},
   "outputs": [
    {
     "name": "stdout",
     "output_type": "stream",
     "text": [
      "C:\\Users\\User\\PythonEssentials\\images\\python3預設路徑_linux.jpg\n",
      "C:\\Users\\User\\PythonEssentials\\images\\python3預設路徑_win.jpg\n"
     ]
    }
   ],
   "source": [
    "typelist = ('.jpg')\n",
    "def traverse_dir(entry_dir):\n",
    "    for root, dirs, files in os.walk(entry_dir):\n",
    "        for file in files:\n",
    "            fname, fextension = os.path.splitext(file)\n",
    "            if fextension in typelist:\n",
    "                p=os.path.join(root,file)\n",
    "                print(p)\n",
    "                \n",
    "traverse_dir(os.getcwd()+\"\\\\images\")"
   ]
  },
  {
   "cell_type": "markdown",
   "metadata": {},
   "source": [
    "## Advanced: Voice Output (語音輸出) ##"
   ]
  },
  {
   "cell_type": "code",
   "execution_count": 9,
   "metadata": {
    "scrolled": true
   },
   "outputs": [
    {
     "name": "stdout",
     "output_type": "stream",
     "text": [
      "Collecting gtts\n",
      "  Downloading gTTS-1.2.2.tar.gz\n",
      "Requirement already satisfied: six in c:\\users\\user\\anaconda3\\lib\\site-packages (from gtts)\n",
      "Requirement already satisfied: requests in c:\\users\\user\\anaconda3\\lib\\site-packages (from gtts)\n",
      "Collecting gtts_token (from gtts)\n",
      "  Using cached gTTS-token-1.1.1.zip\n",
      "Building wheels for collected packages: gtts, gtts-token\n",
      "  Running setup.py bdist_wheel for gtts: started\n",
      "  Running setup.py bdist_wheel for gtts: finished with status 'done'\n",
      "  Stored in directory: C:\\Users\\User\\AppData\\Local\\pip\\Cache\\wheels\\ef\\e7\\2e\\066d7be1514f7c7fd6c942f4d09ae5460f9a3125829782d03d\n",
      "  Running setup.py bdist_wheel for gtts-token: started\n",
      "  Running setup.py bdist_wheel for gtts-token: finished with status 'done'\n",
      "  Stored in directory: C:\\Users\\User\\AppData\\Local\\pip\\Cache\\wheels\\a9\\19\\5d\\2abe941153d0331bb7c2fbcd48ed8c36a67ca1d40bd572773e\n",
      "Successfully built gtts gtts-token\n",
      "Installing collected packages: gtts-token, gtts\n",
      "Successfully installed gtts-1.2.2 gtts-token-1.1.1\n"
     ]
    }
   ],
   "source": [
    "!pip install gtts  #Google Text to Speech"
   ]
  },
  {
   "cell_type": "code",
   "execution_count": 23,
   "metadata": {
    "collapsed": true
   },
   "outputs": [],
   "source": [
    "from gtts import gTTS\n",
    "from pygame import mixer\n",
    "import tempfile\n",
    "\n",
    "from pygame import mixer\n",
    "mixer.init()\n",
    "def speak(sentence):\n",
    "    with tempfile.NamedTemporaryFile(delete=True) as fp:\n",
    "        tts = gTTS(text=sentence, lang='zh')\n",
    "        tts.save(\"{}.mp3\".format(fp.name))\n",
    "        print(\"save in {}\".format(fp.name))\n",
    "        mixer.music.load('{}.mp3'.format(fp.name))\n",
    "        mixer.music.play()"
   ]
  },
  {
   "cell_type": "code",
   "execution_count": 24,
   "metadata": {},
   "outputs": [
    {
     "name": "stdout",
     "output_type": "stream",
     "text": [
      "save in C:\\Users\\User\\AppData\\Local\\Temp\\tmpgjt483a_\n"
     ]
    }
   ],
   "source": [
    "speak(\"歡迎收看廣宣狂新聞, 九四八七九四狂\")"
   ]
  },
  {
   "cell_type": "code",
   "execution_count": 25,
   "metadata": {},
   "outputs": [
    {
     "name": "stdout",
     "output_type": "stream",
     "text": [
      "Help on module tempfile:\n",
      "\n",
      "NAME\n",
      "    tempfile - Temporary files.\n",
      "\n",
      "DESCRIPTION\n",
      "    This module provides generic, low- and high-level interfaces for\n",
      "    creating temporary files and directories.  All of the interfaces\n",
      "    provided by this module can be used without fear of race conditions\n",
      "    except for 'mktemp'.  'mktemp' is subject to race conditions and\n",
      "    should not be used; it is provided for backward compatibility only.\n",
      "    \n",
      "    The default path names are returned as str.  If you supply bytes as\n",
      "    input, all return values will be in bytes.  Ex:\n",
      "    \n",
      "        >>> tempfile.mkstemp()\n",
      "        (4, '/tmp/tmptpu9nin8')\n",
      "        >>> tempfile.mkdtemp(suffix=b'')\n",
      "        b'/tmp/tmppbi8f0hy'\n",
      "    \n",
      "    This module also provides some data items to the user:\n",
      "    \n",
      "      TMP_MAX  - maximum number of names that will be tried before\n",
      "                 giving up.\n",
      "      tempdir  - If this is set to a string before the first use of\n",
      "                 any routine from this module, it will be considered as\n",
      "                 another candidate location to store temporary files.\n",
      "\n",
      "CLASSES\n",
      "    builtins.object\n",
      "        SpooledTemporaryFile\n",
      "        TemporaryDirectory\n",
      "    \n",
      "    class SpooledTemporaryFile(builtins.object)\n",
      "     |  Temporary file wrapper, specialized to switch from BytesIO\n",
      "     |  or StringIO to a real file when it exceeds a certain size or\n",
      "     |  when a fileno is needed.\n",
      "     |  \n",
      "     |  Methods defined here:\n",
      "     |  \n",
      "     |  __enter__(self)\n",
      "     |      # Context management protocol\n",
      "     |  \n",
      "     |  __exit__(self, exc, value, tb)\n",
      "     |  \n",
      "     |  __init__(self, max_size=0, mode='w+b', buffering=-1, encoding=None, newline=None, suffix=None, prefix=None, dir=None)\n",
      "     |      Initialize self.  See help(type(self)) for accurate signature.\n",
      "     |  \n",
      "     |  __iter__(self)\n",
      "     |      # file protocol\n",
      "     |  \n",
      "     |  close(self)\n",
      "     |  \n",
      "     |  fileno(self)\n",
      "     |  \n",
      "     |  flush(self)\n",
      "     |  \n",
      "     |  isatty(self)\n",
      "     |  \n",
      "     |  read(self, *args)\n",
      "     |  \n",
      "     |  readline(self, *args)\n",
      "     |  \n",
      "     |  readlines(self, *args)\n",
      "     |  \n",
      "     |  rollover(self)\n",
      "     |  \n",
      "     |  seek(self, *args)\n",
      "     |  \n",
      "     |  tell(self)\n",
      "     |  \n",
      "     |  truncate(self, size=None)\n",
      "     |  \n",
      "     |  write(self, s)\n",
      "     |  \n",
      "     |  writelines(self, iterable)\n",
      "     |  \n",
      "     |  ----------------------------------------------------------------------\n",
      "     |  Data descriptors defined here:\n",
      "     |  \n",
      "     |  __dict__\n",
      "     |      dictionary for instance variables (if defined)\n",
      "     |  \n",
      "     |  __weakref__\n",
      "     |      list of weak references to the object (if defined)\n",
      "     |  \n",
      "     |  closed\n",
      "     |  \n",
      "     |  encoding\n",
      "     |  \n",
      "     |  mode\n",
      "     |  \n",
      "     |  name\n",
      "     |  \n",
      "     |  newlines\n",
      "     |  \n",
      "     |  softspace\n",
      "    \n",
      "    class TemporaryDirectory(builtins.object)\n",
      "     |  Create and return a temporary directory.  This has the same\n",
      "     |  behavior as mkdtemp but can be used as a context manager.  For\n",
      "     |  example:\n",
      "     |  \n",
      "     |      with TemporaryDirectory() as tmpdir:\n",
      "     |          ...\n",
      "     |  \n",
      "     |  Upon exiting the context, the directory and everything contained\n",
      "     |  in it are removed.\n",
      "     |  \n",
      "     |  Methods defined here:\n",
      "     |  \n",
      "     |  __enter__(self)\n",
      "     |  \n",
      "     |  __exit__(self, exc, value, tb)\n",
      "     |  \n",
      "     |  __init__(self, suffix=None, prefix=None, dir=None)\n",
      "     |      Initialize self.  See help(type(self)) for accurate signature.\n",
      "     |  \n",
      "     |  __repr__(self)\n",
      "     |      Return repr(self).\n",
      "     |  \n",
      "     |  cleanup(self)\n",
      "     |  \n",
      "     |  ----------------------------------------------------------------------\n",
      "     |  Data descriptors defined here:\n",
      "     |  \n",
      "     |  __dict__\n",
      "     |      dictionary for instance variables (if defined)\n",
      "     |  \n",
      "     |  __weakref__\n",
      "     |      list of weak references to the object (if defined)\n",
      "\n",
      "FUNCTIONS\n",
      "    NamedTemporaryFile(mode='w+b', buffering=-1, encoding=None, newline=None, suffix=None, prefix=None, dir=None, delete=True)\n",
      "        Create and return a temporary file.\n",
      "        Arguments:\n",
      "        'prefix', 'suffix', 'dir' -- as for mkstemp.\n",
      "        'mode' -- the mode argument to io.open (default \"w+b\").\n",
      "        'buffering' -- the buffer size argument to io.open (default -1).\n",
      "        'encoding' -- the encoding argument to io.open (default None)\n",
      "        'newline' -- the newline argument to io.open (default None)\n",
      "        'delete' -- whether the file is deleted on close (default True).\n",
      "        The file is created as mkstemp() would do it.\n",
      "        \n",
      "        Returns an object with a file-like interface; the name of the file\n",
      "        is accessible as its 'name' attribute.  The file will be automatically\n",
      "        deleted when it is closed unless the 'delete' argument is set to False.\n",
      "    \n",
      "    TemporaryFile = NamedTemporaryFile(mode='w+b', buffering=-1, encoding=None, newline=None, suffix=None, prefix=None, dir=None, delete=True)\n",
      "        Create and return a temporary file.\n",
      "        Arguments:\n",
      "        'prefix', 'suffix', 'dir' -- as for mkstemp.\n",
      "        'mode' -- the mode argument to io.open (default \"w+b\").\n",
      "        'buffering' -- the buffer size argument to io.open (default -1).\n",
      "        'encoding' -- the encoding argument to io.open (default None)\n",
      "        'newline' -- the newline argument to io.open (default None)\n",
      "        'delete' -- whether the file is deleted on close (default True).\n",
      "        The file is created as mkstemp() would do it.\n",
      "        \n",
      "        Returns an object with a file-like interface; the name of the file\n",
      "        is accessible as its 'name' attribute.  The file will be automatically\n",
      "        deleted when it is closed unless the 'delete' argument is set to False.\n",
      "    \n",
      "    gettempdir()\n",
      "        Accessor for tempfile.tempdir.\n",
      "    \n",
      "    gettempdirb()\n",
      "        A bytes version of tempfile.gettempdir().\n",
      "    \n",
      "    gettempprefix()\n",
      "        The default prefix for temporary directories.\n",
      "    \n",
      "    gettempprefixb()\n",
      "        The default prefix for temporary directories as bytes.\n",
      "    \n",
      "    mkdtemp(suffix=None, prefix=None, dir=None)\n",
      "        User-callable function to create and return a unique temporary\n",
      "        directory.  The return value is the pathname of the directory.\n",
      "        \n",
      "        Arguments are as for mkstemp, except that the 'text' argument is\n",
      "        not accepted.\n",
      "        \n",
      "        The directory is readable, writable, and searchable only by the\n",
      "        creating user.\n",
      "        \n",
      "        Caller is responsible for deleting the directory when done with it.\n",
      "    \n",
      "    mkstemp(suffix=None, prefix=None, dir=None, text=False)\n",
      "        User-callable function to create and return a unique temporary\n",
      "        file.  The return value is a pair (fd, name) where fd is the\n",
      "        file descriptor returned by os.open, and name is the filename.\n",
      "        \n",
      "        If 'suffix' is not None, the file name will end with that suffix,\n",
      "        otherwise there will be no suffix.\n",
      "        \n",
      "        If 'prefix' is not None, the file name will begin with that prefix,\n",
      "        otherwise a default prefix is used.\n",
      "        \n",
      "        If 'dir' is not None, the file will be created in that directory,\n",
      "        otherwise a default directory is used.\n",
      "        \n",
      "        If 'text' is specified and true, the file is opened in text\n",
      "        mode.  Else (the default) the file is opened in binary mode.  On\n",
      "        some operating systems, this makes no difference.\n",
      "        \n",
      "        If any of 'suffix', 'prefix' and 'dir' are not None, they must be the\n",
      "        same type.  If they are bytes, the returned name will be bytes; str\n",
      "        otherwise.\n",
      "        \n",
      "        The file is readable and writable only by the creating user ID.\n",
      "        If the operating system uses permission bits to indicate whether a\n",
      "        file is executable, the file is executable by no one. The file\n",
      "        descriptor is not inherited by children of this process.\n",
      "        \n",
      "        Caller is responsible for deleting the file when done with it.\n",
      "    \n",
      "    mktemp(suffix='', prefix='tmp', dir=None)\n",
      "        User-callable function to return a unique temporary file name.  The\n",
      "        file is not created.\n",
      "        \n",
      "        Arguments are similar to mkstemp, except that the 'text' argument is\n",
      "        not accepted, and suffix=None, prefix=None and bytes file names are not\n",
      "        supported.\n",
      "        \n",
      "        THIS FUNCTION IS UNSAFE AND SHOULD NOT BE USED.  The file name may\n",
      "        refer to a file that did not exist at some point, but by the time\n",
      "        you get around to creating it, someone else may have beaten you to\n",
      "        the punch.\n",
      "\n",
      "DATA\n",
      "    TMP_MAX = 2147483647\n",
      "    __all__ = ['NamedTemporaryFile', 'TemporaryFile', 'SpooledTemporaryFil...\n",
      "    tempdir = r'C:\\Users\\User\\AppData\\Local\\Temp'\n",
      "\n",
      "FILE\n",
      "    c:\\users\\user\\anaconda3\\lib\\tempfile.py\n",
      "\n",
      "\n"
     ]
    }
   ],
   "source": [
    "help(tempfile)"
   ]
  }
 ],
 "metadata": {
  "kernelspec": {
   "display_name": "Python 3",
   "language": "python",
   "name": "python3"
  },
  "language_info": {
   "codemirror_mode": {
    "name": "ipython",
    "version": 3
   },
   "file_extension": ".py",
   "mimetype": "text/x-python",
   "name": "python",
   "nbconvert_exporter": "python",
   "pygments_lexer": "ipython3",
   "version": "3.6.2"
  }
 },
 "nbformat": 4,
 "nbformat_minor": 2
}
