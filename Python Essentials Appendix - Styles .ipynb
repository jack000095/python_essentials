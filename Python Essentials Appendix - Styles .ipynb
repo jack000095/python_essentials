{
 "cells": [
  {
   "cell_type": "markdown",
   "metadata": {},
   "source": [
    "# Python Essentials by Paul Chao #\n",
    "# Styles  末了的話 #"
   ]
  },
  {
   "cell_type": "code",
   "execution_count": 1,
   "metadata": {},
   "outputs": [
    {
     "name": "stdout",
     "output_type": "stream",
     "text": [
      "The Zen of Python, by Tim Peters\n",
      "\n",
      "Beautiful is better than ugly.\n",
      "Explicit is better than implicit.\n",
      "Simple is better than complex.\n",
      "Complex is better than complicated.\n",
      "Flat is better than nested.\n",
      "Sparse is better than dense.\n",
      "Readability counts.\n",
      "Special cases aren't special enough to break the rules.\n",
      "Although practicality beats purity.\n",
      "Errors should never pass silently.\n",
      "Unless explicitly silenced.\n",
      "In the face of ambiguity, refuse the temptation to guess.\n",
      "There should be one-- and preferably only one --obvious way to do it.\n",
      "Although that way may not be obvious at first unless you're Dutch.\n",
      "Now is better than never.\n",
      "Although never is often better than *right* now.\n",
      "If the implementation is hard to explain, it's a bad idea.\n",
      "If the implementation is easy to explain, it may be a good idea.\n",
      "Namespaces are one honking great idea -- let's do more of those!\n"
     ]
    }
   ],
   "source": [
    "import this"
   ]
  },
  {
   "cell_type": "markdown",
   "metadata": {},
   "source": [
    "## PEP 8 ##\n",
    "### Python Enhancement Proposal #8 [PEP8](https://www.python.org/dev/peps/pep-0008/)\n",
    "\n",
    "### Python 代碼風格指南 [(一)](http://nanshu.wang/post/2015-07-04/) [(二)](http://nanshu.wang/post/2015-08-30/) [(三)](http://nanshu.wang/post/2015-09-14/)"
   ]
  },
  {
   "cell_type": "markdown",
   "metadata": {},
   "source": [
    "## Whitespace 空白##\n",
    "1. Spaces(*4) instead of Tabs (用空白不用tab)\n",
    "2. 79 characters each line, new line by 4 spaces (79字元換行，換行在層數多加4個空白)\n",
    "3. In a file, two empty lines between functions or function and class  同檔案內函式函式、函式類別間空兩行 In a class, one empty line between methods 同類別內，方法間空一行"
   ]
  },
  {
   "cell_type": "markdown",
   "metadata": {},
   "source": [
    "## Naming 命名 ##\n",
    "1. Functions(函式), variables(變數), 屬性(attributes) : lowercase_underscore_here\n",
    "2. Protected instance attributes (受保護的實體屬性) : _leading_underscore_here\n",
    "3. Private(私有) instance attributes : __double_underscore_here\n",
    "4. Class(類別), Exceptions(例外): CapitalizedWordHere\n",
    "5. Constants(常數) : ALL_CAPS_HERE\n",
    "6. Instance methods(實體方法) in classes: self.something_here"
   ]
  },
  {
   "cell_type": "markdown",
   "metadata": {},
   "source": [
    "## Statments陳述句 ##\n",
    "1. \"if a is not b\", better than \"if not a is b\". (inline negation > negation of positive expression, 行內否定好於否定描述)\n",
    "2. No compound statements (if, for, while, except)  (keep simple in one line, 不要單行複合句採用多行處理)\n",
    "3. import on the top (import 放在檔案頂端)\n",
    "4. import absolute path (不要import 相對路徑)\n",
    "5. relative import use 'from . import foo' (import 相對路徑就用from)\n",
    "6. import sequence: standard, third party, private own by alphabet. (import 順序是標準程式庫、第三方、自己的模組, 以字母排序)"
   ]
  }
 ],
 "metadata": {
  "kernelspec": {
   "display_name": "Python 3",
   "language": "python",
   "name": "python3"
  },
  "language_info": {
   "codemirror_mode": {
    "name": "ipython",
    "version": 3
   },
   "file_extension": ".py",
   "mimetype": "text/x-python",
   "name": "python",
   "nbconvert_exporter": "python",
   "pygments_lexer": "ipython3",
   "version": "3.6.1"
  }
 },
 "nbformat": 4,
 "nbformat_minor": 2
}
